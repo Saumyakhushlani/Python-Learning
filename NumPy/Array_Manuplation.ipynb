{
 "cells": [
  {
   "cell_type": "markdown",
   "id": "3ceafb88",
   "metadata": {},
   "source": [
    "To convert the dimensions of an array in NumPy, you can use functions like `reshape`, `expand_dims`, or `squeeze`.  \n",
    "- `reshape` allows you to change the shape of an array to any compatible dimensions.  \n",
    "- `expand_dims` adds a new axis at the specified position, increasing the dimensionality.  \n",
    "- `squeeze` removes axes of length one, reducing the dimensionality.  \n",
    "These operations are useful for preparing data for machine learning models, broadcasting, or aligning shapes for mathematical operations."
   ]
  },
  {
   "cell_type": "markdown",
   "id": "ed05e5ec",
   "metadata": {
    "vscode": {
     "languageId": "markdown"
    }
   },
   "source": [
    "In NumPy, `ravel` and `flatten` are methods used to convert multi-dimensional arrays into one-dimensional arrays.\n",
    "\n",
    "- `ravel`: Returns a flattened array. It returns a view of the original array whenever possible, so changes to the output may affect the original array.\n",
    "- `flatten`: Returns a copy of the array collapsed into one dimension. Changes to the output do not affect the original array.\n",
    "\n",
    "Use `ravel` for memory efficiency when you don't need a copy, and `flatten` when you need a separate copy of the data."
   ]
  },
  {
   "cell_type": "code",
   "execution_count": 1,
   "id": "d6b1b4f4",
   "metadata": {},
   "outputs": [],
   "source": [
    "import numpy as np"
   ]
  },
  {
   "cell_type": "code",
   "execution_count": 2,
   "id": "5d8393ca",
   "metadata": {},
   "outputs": [
    {
     "data": {
      "text/plain": [
       "array([ 2,  5,  4,  6,  8,  9, 12, 15, 17, 22, 25, 32])"
      ]
     },
     "execution_count": 2,
     "metadata": {},
     "output_type": "execute_result"
    }
   ],
   "source": [
    "arr = np.array([2,5,4,6,8,9,12,15,17,22,25,32])\n",
    "arr"
   ]
  },
  {
   "cell_type": "code",
   "execution_count": 4,
   "id": "0ce5315f",
   "metadata": {},
   "outputs": [
    {
     "data": {
      "text/plain": [
       "array([[ 2,  5,  4,  6],\n",
       "       [ 8,  9, 12, 15],\n",
       "       [17, 22, 25, 32]])"
      ]
     },
     "execution_count": 4,
     "metadata": {},
     "output_type": "execute_result"
    }
   ],
   "source": [
    "reshaped = arr.reshape(3,4)\n",
    "reshaped"
   ]
  },
  {
   "cell_type": "code",
   "execution_count": 5,
   "id": "89c6883a",
   "metadata": {},
   "outputs": [
    {
     "data": {
      "text/plain": [
       "array([ 2,  5,  4,  6,  8,  9, 12, 15, 17, 22, 25, 32])"
      ]
     },
     "execution_count": 5,
     "metadata": {},
     "output_type": "execute_result"
    }
   ],
   "source": [
    "flatten = reshaped.flatten()\n",
    "flatten"
   ]
  },
  {
   "cell_type": "code",
   "execution_count": 6,
   "id": "ed160006",
   "metadata": {},
   "outputs": [
    {
     "data": {
      "text/plain": [
       "array([ 2,  5,  4,  6,  8,  9, 12, 15, 17, 22, 25, 32])"
      ]
     },
     "execution_count": 6,
     "metadata": {},
     "output_type": "execute_result"
    }
   ],
   "source": [
    "ravel = reshaped.ravel()\n",
    "ravel"
   ]
  },
  {
   "cell_type": "markdown",
   "id": "ddbeffbb",
   "metadata": {
    "vscode": {
     "languageId": "markdown"
    }
   },
   "source": [
    "The difference between `ravel` and `flatten` in NumPy:\n",
    "\n",
    "- `ravel()` returns a flattened array as a view of the original array whenever possible. This means changes to the output may affect the original array.\n",
    "- `flatten()` returns a flattened array as a copy of the original array. Changes to the output do not affect the original array.\n",
    "\n",
    "Use `ravel` for memory efficiency when you don't need a copy, and `flatten` when you need a separate copy of the data."
   ]
  },
  {
   "cell_type": "markdown",
   "id": "fbb01006",
   "metadata": {},
   "source": []
  }
 ],
 "metadata": {
  "kernelspec": {
   "display_name": "Python 3",
   "language": "python",
   "name": "python3"
  },
  "language_info": {
   "codemirror_mode": {
    "name": "ipython",
    "version": 3
   },
   "file_extension": ".py",
   "mimetype": "text/x-python",
   "name": "python",
   "nbconvert_exporter": "python",
   "pygments_lexer": "ipython3",
   "version": "3.12.4"
  }
 },
 "nbformat": 4,
 "nbformat_minor": 5
}
