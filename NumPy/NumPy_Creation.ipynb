{
 "cells": [
  {
   "cell_type": "code",
   "execution_count": 5,
   "id": "bc8d5f7a",
   "metadata": {},
   "outputs": [
    {
     "data": {
      "text/plain": [
       "array([2, 4, 8, 2, 4, 5])"
      ]
     },
     "execution_count": 5,
     "metadata": {},
     "output_type": "execute_result"
    }
   ],
   "source": [
    "import numpy as np\n",
    "\n",
    "numpy_array = np.array([2,4,8,2,4,5])\n",
    "numpy_array"
   ]
  },
  {
   "cell_type": "markdown",
   "id": "e60ae2dc",
   "metadata": {},
   "source": [
    "To Create a multidimensiona Array we can use a list of lists"
   ]
  },
  {
   "cell_type": "code",
   "execution_count": 7,
   "id": "f61518f0",
   "metadata": {},
   "outputs": [
    {
     "data": {
      "text/plain": [
       "array([[1, 2, 3],\n",
       "       [4, 5, 6],\n",
       "       [7, 8, 9]])"
      ]
     },
     "execution_count": 7,
     "metadata": {},
     "output_type": "execute_result"
    }
   ],
   "source": [
    "import numpy as np\n",
    "\n",
    "numpy_2d_array = np.array([[1,2,3],[4,5,6],[7,8,9]])\n",
    "numpy_2d_array"
   ]
  },
  {
   "cell_type": "markdown",
   "id": "54f45df9",
   "metadata": {},
   "source": [
    "We can also Check the details of this array,Like what type of data it is carrying etc.\n",
    "Like array.dtype will give the data type of the array.\n"
   ]
  },
  {
   "cell_type": "code",
   "execution_count": 9,
   "id": "b44b0755",
   "metadata": {},
   "outputs": [
    {
     "data": {
      "text/plain": [
       "dtype('int64')"
      ]
     },
     "execution_count": 9,
     "metadata": {},
     "output_type": "execute_result"
    }
   ],
   "source": [
    "import numpy as np\n",
    "\n",
    "array = np.array([1,2,3])\n",
    "array.dtype"
   ]
  },
  {
   "cell_type": "markdown",
   "id": "d981e510",
   "metadata": {},
   "source": [
    "We can also Check the shape of the array using array.shape"
   ]
  },
  {
   "cell_type": "code",
   "execution_count": 11,
   "id": "5ae57231",
   "metadata": {},
   "outputs": [
    {
     "data": {
      "text/plain": [
       "(3, 3)"
      ]
     },
     "execution_count": 11,
     "metadata": {},
     "output_type": "execute_result"
    }
   ],
   "source": [
    "numpy_2d_array.shape"
   ]
  },
  {
   "cell_type": "markdown",
   "id": "9a83a7f1",
   "metadata": {},
   "source": [
    "To chek the size or total number of variable we use array_name.size"
   ]
  },
  {
   "cell_type": "code",
   "execution_count": 12,
   "id": "d6df6086",
   "metadata": {},
   "outputs": [
    {
     "data": {
      "text/plain": [
       "9"
      ]
     },
     "execution_count": 12,
     "metadata": {},
     "output_type": "execute_result"
    }
   ],
   "source": [
    "numpy_2d_array.size"
   ]
  },
  {
   "cell_type": "markdown",
   "id": "fb0de8b5",
   "metadata": {},
   "source": [
    "To check the dimension we use array.ndim"
   ]
  },
  {
   "cell_type": "code",
   "execution_count": 13,
   "id": "4ce43f6a",
   "metadata": {},
   "outputs": [
    {
     "data": {
      "text/plain": [
       "2"
      ]
     },
     "execution_count": 13,
     "metadata": {},
     "output_type": "execute_result"
    }
   ],
   "source": [
    "numpy_2d_array.ndim"
   ]
  },
  {
   "cell_type": "markdown",
   "id": "1cdae60d",
   "metadata": {},
   "source": [
    "To Create a Two dimensional Array with all entries 0s or 1s\n",
    "thE ZEROS want first argument as a shape so we add (2,3) with a outer bracket\n",
    "This will create a array of float type\n",
    "So we mention the dtype as int as second parameter "
   ]
  },
  {
   "cell_type": "code",
   "execution_count": 14,
   "id": "2bf3b60c",
   "metadata": {},
   "outputs": [
    {
     "data": {
      "text/plain": [
       "array([[0, 0, 0],\n",
       "       [0, 0, 0]])"
      ]
     },
     "execution_count": 14,
     "metadata": {},
     "output_type": "execute_result"
    }
   ],
   "source": [
    "zeros = np.zeros((2,3),dtype=int)\n",
    "zeros"
   ]
  },
  {
   "cell_type": "markdown",
   "id": "59de9459",
   "metadata": {},
   "source": [
    "Arange - Intialises the Value from 0-n n exclusive "
   ]
  },
  {
   "cell_type": "code",
   "execution_count": 16,
   "id": "80bd55e9",
   "metadata": {},
   "outputs": [
    {
     "data": {
      "text/plain": [
       "array([0, 1, 2, 3, 4, 5, 6, 7, 8, 9])"
      ]
     },
     "execution_count": 16,
     "metadata": {},
     "output_type": "execute_result"
    }
   ],
   "source": [
    "arr_r =np.arange(10)\n",
    "arr_r"
   ]
  },
  {
   "cell_type": "markdown",
   "id": "a30ec883",
   "metadata": {},
   "source": [
    "Suppose if want 10 float values between 1-5\n",
    "For that case we use inbuilt function linespace\n",
    "Inclusive of 1 and 5"
   ]
  },
  {
   "cell_type": "code",
   "execution_count": null,
   "id": "96ddfccd",
   "metadata": {},
   "outputs": [
    {
     "data": {
      "text/plain": [
       "array([0.        , 0.55555556, 1.11111111, 1.66666667, 2.22222222,\n",
       "       2.77777778, 3.33333333, 3.88888889, 4.44444444, 5.        ])"
      ]
     },
     "execution_count": 18,
     "metadata": {},
     "output_type": "execute_result"
    }
   ],
   "source": [
    "arr_linespace = np.linspace(1,5,10)\n",
    "arr_linespace"
   ]
  },
  {
   "cell_type": "code",
   "execution_count": null,
   "id": "9578fd9a",
   "metadata": {},
   "outputs": [],
   "source": []
  },
  {
   "cell_type": "markdown",
   "id": "c593f357",
   "metadata": {},
   "source": [
    "There is also a function called Logspace if we want exponentiallty Growth"
   ]
  }
 ],
 "metadata": {
  "kernelspec": {
   "display_name": "Python 3",
   "language": "python",
   "name": "python3"
  },
  "language_info": {
   "codemirror_mode": {
    "name": "ipython",
    "version": 3
   },
   "file_extension": ".py",
   "mimetype": "text/x-python",
   "name": "python",
   "nbconvert_exporter": "python",
   "pygments_lexer": "ipython3",
   "version": "3.12.4"
  }
 },
 "nbformat": 4,
 "nbformat_minor": 5
}
