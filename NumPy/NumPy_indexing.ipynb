{
 "cells": [
  {
   "cell_type": "markdown",
   "id": "75674771",
   "metadata": {},
   "source": [
    "# NumPy Indexing\n",
    "\n",
    "NumPy indexing allows you to access and manipulate elements of arrays efficiently. Here are the main types of indexing in NumPy:\n",
    "\n",
    "## 1. Basic Indexing\n",
    "\n",
    "- Single element access  \n",
    "- Slicing\n",
    "\n",
    "## 2. Integer Array Indexing\n",
    "\n",
    "- Select elements at specific positions using lists or arrays of indices\n",
    "\n",
    "## 3. Boolean Indexing\n",
    "\n",
    "- Use boolean arrays to select elements\n",
    "\n",
    "## 4. Fancy Indexing\n",
    "\n",
    "- Allows selection of arbitrary items using integer arrays\n",
    "\n",
    "## 5. Ellipsis (`...`)\n",
    "\n",
    "- Used to select remaining unspecified dimensions\n",
    "\n",
    "## Summary Table\n",
    "\n",
    "| Type                | Example                | Description                      |\n",
    "|---------------------|-----------------------|----------------------------------|\n",
    "| Basic               |                       | Single element                   |\n",
    "| Slicing             |                       | Range of elements                |\n",
    "| Integer Array       |                       | Specific elements                |\n",
    "| Boolean             |                       | Condition-based selection        |\n",
    "| Fancy               |                       | Arbitrary rows/columns           |\n",
    "| Ellipsis            |                       | All dimensions, first column     |\n",
    "\n",
    "NumPy indexing is powerful for data selection, manipulation, and analysis.\n"
   ]
  },
  {
   "cell_type": "code",
   "execution_count": null,
   "id": "9ad658da",
   "metadata": {},
   "outputs": [],
   "source": [
    "import numpy as np"
   ]
  },
  {
   "cell_type": "code",
   "execution_count": null,
   "id": "1d9ba74e",
   "metadata": {},
   "outputs": [
    {
     "data": {
      "text/plain": [
       "array([[1, 2, 3],\n",
       "       [4, 5, 6]])"
      ]
     },
     "execution_count": 2,
     "metadata": {},
     "output_type": "execute_result"
    }
   ],
   "source": [
    "arr = np.array([[1,2,3],[4,5,6]])\n",
    "arr"
   ]
  },
  {
   "cell_type": "code",
   "execution_count": 16,
   "id": "4e1f5601",
   "metadata": {},
   "outputs": [
    {
     "data": {
      "text/plain": [
       "array([1, 2, 3])"
      ]
     },
     "execution_count": 16,
     "metadata": {},
     "output_type": "execute_result"
    }
   ],
   "source": [
    "arr[0]"
   ]
  },
  {
   "cell_type": "code",
   "execution_count": 15,
   "id": "41020623",
   "metadata": {},
   "outputs": [
    {
     "data": {
      "text/plain": [
       "np.int64(2)"
      ]
     },
     "execution_count": 15,
     "metadata": {},
     "output_type": "execute_result"
    }
   ],
   "source": [
    "arr[0][1]\n"
   ]
  },
  {
   "cell_type": "code",
   "execution_count": 17,
   "id": "3c36b9f9",
   "metadata": {},
   "outputs": [
    {
     "data": {
      "text/plain": [
       "np.int64(2)"
      ]
     },
     "execution_count": 17,
     "metadata": {},
     "output_type": "execute_result"
    }
   ],
   "source": [
    "arr[0,1]"
   ]
  },
  {
   "cell_type": "code",
   "execution_count": 18,
   "id": "ec02be1f",
   "metadata": {},
   "outputs": [
    {
     "data": {
      "text/plain": [
       "np.int64(6)"
      ]
     },
     "execution_count": 18,
     "metadata": {},
     "output_type": "execute_result"
    }
   ],
   "source": [
    "arr[-1,-1]"
   ]
  },
  {
   "cell_type": "code",
   "execution_count": 20,
   "id": "e76269c3",
   "metadata": {},
   "outputs": [
    {
     "data": {
      "text/plain": [
       "array([[ 1,  2,  3],\n",
       "       [ 4,  5, 55]])"
      ]
     },
     "execution_count": 20,
     "metadata": {},
     "output_type": "execute_result"
    }
   ],
   "source": [
    "arr[1,2]=55\n",
    "arr"
   ]
  },
  {
   "cell_type": "code",
   "execution_count": 21,
   "id": "e61fcdf0",
   "metadata": {},
   "outputs": [
    {
     "data": {
      "text/plain": [
       "array([[1, 2, 3],\n",
       "       [7, 7, 7]])"
      ]
     },
     "execution_count": 21,
     "metadata": {},
     "output_type": "execute_result"
    }
   ],
   "source": [
    "arr[1]=7\n",
    "arr"
   ]
  },
  {
   "cell_type": "code",
   "execution_count": 22,
   "id": "de1b97fe",
   "metadata": {},
   "outputs": [
    {
     "data": {
      "text/plain": [
       "array([[1, 2, 3],\n",
       "       [7, 7, 7]])"
      ]
     },
     "execution_count": 22,
     "metadata": {},
     "output_type": "execute_result"
    }
   ],
   "source": [
    "arr[1]+2\n",
    "arr"
   ]
  }
 ],
 "metadata": {
  "kernelspec": {
   "display_name": "Python 3",
   "language": "python",
   "name": "python3"
  },
  "language_info": {
   "codemirror_mode": {
    "name": "ipython",
    "version": 3
   },
   "file_extension": ".py",
   "mimetype": "text/x-python",
   "name": "python",
   "nbconvert_exporter": "python",
   "pygments_lexer": "ipython3",
   "version": "3.12.4"
  }
 },
 "nbformat": 4,
 "nbformat_minor": 5
}
