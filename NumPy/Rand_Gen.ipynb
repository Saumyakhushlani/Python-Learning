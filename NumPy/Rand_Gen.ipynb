{
 "cells": [
  {
   "cell_type": "markdown",
   "id": "47a5a081",
   "metadata": {
    "vscode": {
     "languageId": "markdown"
    }
   },
   "source": [
    "# Random Number Generation\n",
    "\n",
    "- Random number generation is essential for simulations, games, and sampling tasks.\n",
    "- Python provides the `random` module for generating random numbers.\n",
    "- You can generate random integers, floating-point numbers, and even shuffle data.\n",
    "- Example: To generate a random integer between 1 and 10, use `random.randint(1, 10)`.\n"
   ]
  },
  {
   "cell_type": "code",
   "execution_count": 9,
   "id": "c6f6eb56",
   "metadata": {},
   "outputs": [],
   "source": [
    "import numpy as np "
   ]
  },
  {
   "cell_type": "code",
   "execution_count": 10,
   "id": "be2120a1",
   "metadata": {},
   "outputs": [],
   "source": [
    "from numpy.random import Generator as gen\n",
    "from numpy.random import PCG64 as pcg"
   ]
  },
  {
   "cell_type": "code",
   "execution_count": null,
   "id": "b307ad93",
   "metadata": {},
   "outputs": [
    {
     "data": {
      "text/plain": [
       "array([[-1.02093808, -0.27427428,  0.80288713,  0.7352867 , -0.82671865],\n",
       "       [ 0.11147919, -0.26819253, -0.42687285, -1.29386075,  0.25854317],\n",
       "       [ 0.29518661,  0.49177669, -0.48774477,  0.02521098,  0.04893613],\n",
       "       [-0.95743658,  0.15134501,  0.51057867,  0.40988236, -1.40946721],\n",
       "       [ 1.19865377,  0.28483941, -1.11216506, -1.76437118, -1.47051582]])"
      ]
     },
     "execution_count": 19,
     "metadata": {},
     "output_type": "execute_result"
    }
   ],
   "source": [
    "arr_rg = gen(pcg())\n",
    "arr_rg.normal(size=(5,5)) "
   ]
  },
  {
   "cell_type": "code",
   "execution_count": null,
   "id": "ac610ddf",
   "metadata": {},
   "outputs": [],
   "source": [
    "arr_rg = gen(pcg(seed=200))\n",
    "arr_rg.integers(low=10,high=100, size=(5,5)) "
   ]
  }
 ],
 "metadata": {
  "kernelspec": {
   "display_name": "Python 3",
   "language": "python",
   "name": "python3"
  },
  "language_info": {
   "codemirror_mode": {
    "name": "ipython",
    "version": 3
   },
   "file_extension": ".py",
   "mimetype": "text/x-python",
   "name": "python",
   "nbconvert_exporter": "python",
   "pygments_lexer": "ipython3",
   "version": "3.12.4"
  }
 },
 "nbformat": 4,
 "nbformat_minor": 5
}
